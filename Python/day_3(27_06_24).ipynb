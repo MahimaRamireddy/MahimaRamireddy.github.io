{
  "nbformat": 4,
  "nbformat_minor": 0,
  "metadata": {
    "colab": {
      "provenance": [],
      "authorship_tag": "ABX9TyMkNhSdojDd0BOFSCvOPaZl",
      "include_colab_link": true
    },
    "kernelspec": {
      "name": "python3",
      "display_name": "Python 3"
    },
    "language_info": {
      "name": "python"
    }
  },
  "cells": [
    {
      "cell_type": "markdown",
      "metadata": {
        "id": "view-in-github",
        "colab_type": "text"
      },
      "source": [
        "<a href=\"https://colab.research.google.com/github/MahimaRamireddy/MahimaRamireddy.github.io/blob/main/Python/day_3(27_06_24).ipynb\" target=\"_parent\"><img src=\"https://colab.research.google.com/assets/colab-badge.svg\" alt=\"Open In Colab\"/></a>"
      ]
    },
    {
      "cell_type": "code",
      "source": [
        "from google.colab import drive\n",
        "drive.mount('/content/drive')"
      ],
      "metadata": {
        "colab": {
          "base_uri": "https://localhost:8080/"
        },
        "id": "k77ybeE7mVgK",
        "outputId": "87b1fac5-c9ed-44bf-ee2d-4d232502bf36"
      },
      "execution_count": 1,
      "outputs": [
        {
          "output_type": "stream",
          "name": "stdout",
          "text": [
            "Mounted at /content/drive\n"
          ]
        }
      ]
    },
    {
      "cell_type": "markdown",
      "source": [
        "#1\n",
        "\n",
        "Given an integer n, print the following values for each integer i, from 1 to n:\n",
        "\n",
        "1.Decimal\n",
        "\n",
        "2.Octal\n",
        "\n",
        "3.Hexadecimal (capitalized)\n",
        "\n",
        "4.Binary"
      ],
      "metadata": {
        "id": "7I7Tnlobme5R"
      }
    },
    {
      "cell_type": "code",
      "source": [
        "def print_formatted(number):\n",
        "\n",
        "    width = len(bin(n)) - 2\n",
        "\n",
        "    for i in range(1, number + 1):\n",
        "        decimal_str = str(i)\n",
        "        octal_str = oct(i)[2:]  # Convert to octal and remove the '0o' prefix\n",
        "        hex_str = hex(i)[2:].upper()  # Convert to hexadecimal, remove the '0x' prefix and capitalize\n",
        "        binary_str = bin(i)[2:]\n",
        "\n",
        "        print(f\"{decimal_str:>{width}} {octal_str:>{width}} {hex_str:>{width}} {binary_str:>{width}}\")\n",
        "\n",
        "\n",
        "if __name__ == '__main__':\n",
        "    n = int(input())\n",
        "    print_formatted(n)"
      ],
      "metadata": {
        "colab": {
          "base_uri": "https://localhost:8080/"
        },
        "id": "WZaGx69Imy4Q",
        "outputId": "2738b333-5f0a-4f1c-b248-74369cf5d035"
      },
      "execution_count": null,
      "outputs": [
        {
          "output_type": "stream",
          "name": "stdout",
          "text": [
            "17\n",
            "    1     1     1     1\n",
            "    2     2     2    10\n",
            "    3     3     3    11\n",
            "    4     4     4   100\n",
            "    5     5     5   101\n",
            "    6     6     6   110\n",
            "    7     7     7   111\n",
            "    8    10     8  1000\n",
            "    9    11     9  1001\n",
            "   10    12     A  1010\n",
            "   11    13     B  1011\n",
            "   12    14     C  1100\n",
            "   13    15     D  1101\n",
            "   14    16     E  1110\n",
            "   15    17     F  1111\n",
            "   16    20    10 10000\n",
            "   17    21    11 10001\n"
          ]
        }
      ]
    },
    {
      "cell_type": "markdown",
      "source": [
        "#2\n",
        "\n",
        "\n",
        "You are asked to ensure that the first and last names of people begin with a capital letter in their passports. For example, alison heck should be capitalised correctly as Alison Heck."
      ],
      "metadata": {
        "id": "LFTe6BjAm4nf"
      }
    },
    {
      "cell_type": "code",
      "source": [
        "#!/bin/python3\n",
        "\n",
        "import math\n",
        "import os\n",
        "import random\n",
        "import re\n",
        "import sys\n",
        "\n",
        "# Complete the solve function below.\n",
        "def solve(s):\n",
        "\n",
        "    strings=re.split('(\\s+)', s) # to preserve space between words .. works for both single and double space between words\n",
        "    capitals=[]\n",
        "\n",
        "    for string in strings:\n",
        "        st=string[0].upper()+string[1:]\n",
        "        capitals.append(st)\n",
        "    result_string=''.join(capitals)\n",
        "\n",
        "    return result_string\n",
        "\n",
        "if __name__ == '__main__':\n",
        "    #fptr = open(os.environ['OUTPUT_PATH'], 'w')\n",
        "\n",
        "    s = input()\n",
        "\n",
        "    result = solve(s)\n",
        "\n",
        "    print(result)\n",
        "\n",
        "    #fptr.write(result + '\\n')\n",
        "\n",
        "    #fptr.close()\n"
      ],
      "metadata": {
        "colab": {
          "base_uri": "https://localhost:8080/"
        },
        "id": "fyGk9I6nnc8-",
        "outputId": "1d9e4ae2-5306-467a-fd3b-b5f28b75081b"
      },
      "execution_count": null,
      "outputs": [
        {
          "output_type": "stream",
          "name": "stdout",
          "text": [
            "mahima ramireddy\n",
            "Mahima Ramireddy\n"
          ]
        }
      ]
    },
    {
      "cell_type": "markdown",
      "source": [
        "#3\n",
        "\n",
        "Kevin and Stuart want to play the 'The Minion Game'.\n",
        "\n",
        "Game Rules\n",
        "\n",
        "Both players are given the same string, S .\n",
        "Both players have to make substrings using the letters of the string S.\n",
        "Stuart has to make words starting with consonants.\n",
        "Kevin has to make words starting with vowels.\n",
        "The game ends when both players have made all possible substrings.\n",
        "\n",
        "Scoring\n",
        "A player gets +1 point for each occurrence of the substring in the string ."
      ],
      "metadata": {
        "id": "tGq1kT8Jrlhk"
      }
    },
    {
      "cell_type": "code",
      "source": [
        "def minion_game(string):\n",
        "    vowels = 'AEIOU'\n",
        "    kevin_score = 0\n",
        "    stuart_score = 0\n",
        "    length = len(string)\n",
        "\n",
        "    for i in range(length):\n",
        "        if string[i] in vowels:\n",
        "            kevin_score += (length - i)\n",
        "        else:\n",
        "            stuart_score += (length - i)\n",
        "\n",
        "    if kevin_score > stuart_score:\n",
        "        print(\"Kevin\", kevin_score)\n",
        "    elif stuart_score > kevin_score:\n",
        "        print(\"Stuart\", stuart_score)\n",
        "    else:\n",
        "        print(\"Draw\")\n",
        "\n",
        "\n",
        "if __name__ == '__main__':\n",
        "    s = input()\n",
        "    minion_game(s)"
      ],
      "metadata": {
        "colab": {
          "base_uri": "https://localhost:8080/"
        },
        "id": "r1InVOnXtNJn",
        "outputId": "c916f78c-09e1-4d0e-ff40-9a78d5ba848d"
      },
      "execution_count": null,
      "outputs": [
        {
          "output_type": "stream",
          "name": "stdout",
          "text": [
            "BANANA\n",
            "Stuart 12\n"
          ]
        }
      ]
    },
    {
      "cell_type": "markdown",
      "source": [
        "#4\n",
        "\n",
        "Consider the following:\n",
        "\n",
        "A string s of length n where s=c0c1c2....cn-1.\n",
        "An integer k , where k is a factor of .\n",
        "We can split  into n/k  substrings where each subtring ti, consists of a contiguous block of k characters in s. Then, use each ti to create string ui such that:\n",
        "\n",
        "The characters in ui are a subsequence of the characters in ti .\n",
        "Any repeat occurrence of a character is removed from the string such that each character in ui occurs exactly once. In other words, if the character at some index  in  occurs at a previous index  in ti , then do not include the character in string ui .\n",
        "Given s and k, print n/k lines where each line i denotes string ui .\n",
        "\n"
      ],
      "metadata": {
        "id": "aHJ2fnbCtVUb"
      }
    },
    {
      "cell_type": "code",
      "source": [
        "def merge_the_tools(string, k):\n",
        "    for i in range(0,len(string),k):\n",
        "        st1=string[i:i+k]\n",
        "        #print(st1)\n",
        "\n",
        "        seen=set()\n",
        "        result=[]\n",
        "        for char in st1:\n",
        "            if char not in seen:\n",
        "                seen.add(char)\n",
        "                result.append(char)\n",
        "\n",
        "\n",
        "        print(''.join(result))\n",
        "\n",
        "\n",
        "\n",
        "if __name__ == '__main__':\n",
        "    string, k = input(), int(input())\n",
        "    merge_the_tools(string, k)\n"
      ],
      "metadata": {
        "colab": {
          "base_uri": "https://localhost:8080/"
        },
        "id": "QnGvUnJlNFr4",
        "outputId": "1c791f78-115b-47d5-eeb9-314ac573961a"
      },
      "execution_count": 2,
      "outputs": [
        {
          "output_type": "stream",
          "name": "stdout",
          "text": [
            "AABCAAADA\n",
            "3\n",
            "AB\n",
            "CA\n",
            "AD\n"
          ]
        }
      ]
    },
    {
      "cell_type": "markdown",
      "source": [
        "#5\n",
        "\n",
        "Cartesian Product"
      ],
      "metadata": {
        "id": "tnuA8CoBYcnd"
      }
    },
    {
      "cell_type": "code",
      "source": [
        "# Enter your code here. Read input from STDIN. Print output to STDOUT\n",
        "input_A=input()\n",
        "input_B=input()\n",
        "A=list(map(int,input_A.split()))\n",
        "B=list(map(int,input_B.split()))\n",
        "\n",
        "pairs= [(x,y) for x in A for y in B]\n",
        "\n",
        "for ele in pairs:\n",
        "    print(ele,end=' ')"
      ],
      "metadata": {
        "colab": {
          "base_uri": "https://localhost:8080/"
        },
        "id": "e_ITG9dDa9sh",
        "outputId": "18f09068-812a-4d15-fa88-9437d72295f9"
      },
      "execution_count": 3,
      "outputs": [
        {
          "output_type": "stream",
          "name": "stdout",
          "text": [
            "1 2 \n",
            "3 4 \n",
            "(1, 3) (1, 4) (2, 3) (2, 4) "
          ]
        }
      ]
    },
    {
      "cell_type": "markdown",
      "source": [
        "#6\n",
        "\n",
        "Raghu is a shoe shop owner.\n",
        "\n",
        "His shop has X number of shoes.\n",
        "He has a list containing the size of each shoe he has in his shop.\n",
        "\n",
        "\n",
        "There are N number of customers who are willing to pay xi amount of money only if they get the shoe of their desired size.\n",
        "\n",
        "Your task is to compute how much money  earned.\n",
        "\n",
        "\n",
        "The first line contains X, the number of shoes.\n",
        "The second line contains the space separated list of all the shoe sizes in the shop.\n",
        "The third line contains N, the number of customers.\n",
        "The next N lines contain the space separated values of the shoe size desired by the customer and xi, the price of the shoe.\n",
        "\n"
      ],
      "metadata": {
        "id": "gQ4J1qNOeBWX"
      }
    },
    {
      "cell_type": "code",
      "source": [
        "# Enter your code here. Read input from STDIN. Print output to STDOUT\n",
        "X=int(input())\n",
        "\n",
        "size_input=input()\n",
        "size=list(map(int,size_input.split()))\n",
        "\n",
        "N=int(input())\n",
        "\n",
        "sum=0\n",
        "\n",
        "for i in range(0,N):\n",
        "    lst_input=input()\n",
        "    lst=list(map(int,lst_input.split()))\n",
        "\n",
        "    if lst[0] in size:\n",
        "        size.remove(lst[0])\n",
        "        sum=sum+lst[1]\n",
        "\n",
        "print(sum)\n",
        "\n",
        ""
      ],
      "metadata": {
        "colab": {
          "base_uri": "https://localhost:8080/"
        },
        "id": "BbvEHMlpeN9p",
        "outputId": "e0c023d3-15a8-48f8-fd84-b236423df17b"
      },
      "execution_count": 4,
      "outputs": [
        {
          "output_type": "stream",
          "name": "stdout",
          "text": [
            "10\n",
            "2 3 4 5 6 7 8 6 5 18\n",
            "6\n",
            "6 55\n",
            "6 45\n",
            "6 55\n",
            "4 40\n",
            "18 60\n",
            "10 50\n",
            "200\n"
          ]
        }
      ]
    },
    {
      "cell_type": "markdown",
      "source": [
        "#8\n",
        "\n",
        "You are given a string S.\n",
        "Your task is to print all possible permutations of size k of the string S in lexicographic sorted order.\n",
        "\n",
        "A single line containing the space separated string S and the integer value k."
      ],
      "metadata": {
        "id": "QGLpRCs-ewre"
      }
    },
    {
      "cell_type": "code",
      "source": [
        "# Enter your code here. Read input from STDIN. Print output to STDOUT\n",
        "from itertools import permutations\n",
        "\n",
        "input_format=input()\n",
        "input_1=list(input_format.split())\n",
        "\n",
        "string=input_1[0]\n",
        "k=int(input_1[1])\n",
        "\n",
        "string=list(string)\n",
        "lst=list(permutations(string,k))\n",
        "\n",
        "lst1=[]\n",
        "\n",
        "for ele in lst:\n",
        "    res=''.join(ele)\n",
        "    lst1.append(res)\n",
        "\n",
        "lst1=sorted(lst1)\n",
        "\n",
        "for ele in lst1:\n",
        "    print(ele)"
      ],
      "metadata": {
        "colab": {
          "base_uri": "https://localhost:8080/"
        },
        "id": "uaBw7uGVgugZ",
        "outputId": "47f4cefe-6558-49d0-cb80-1f9c8b111b4d"
      },
      "execution_count": 5,
      "outputs": [
        {
          "output_type": "stream",
          "name": "stdout",
          "text": [
            "HACK 2\n",
            "AC\n",
            "AH\n",
            "AK\n",
            "CA\n",
            "CH\n",
            "CK\n",
            "HA\n",
            "HC\n",
            "HK\n",
            "KA\n",
            "KC\n",
            "KH\n"
          ]
        }
      ]
    },
    {
      "cell_type": "markdown",
      "source": [
        "#9\n",
        "\n",
        "Convert given complex number z into polar coordinates.\n",
        "\n"
      ],
      "metadata": {
        "id": "h0IVIuZZg6ZV"
      }
    },
    {
      "cell_type": "code",
      "source": [
        "\n",
        "import cmath\n",
        "\n",
        "complex_no=complex(input())\n",
        "\n",
        "print(abs(complex_no)) # distance (r)\n",
        "print(cmath.phase(complex_no)) # phase (phi)\n",
        "\n"
      ],
      "metadata": {
        "colab": {
          "base_uri": "https://localhost:8080/"
        },
        "id": "28fyLD6tirfx",
        "outputId": "b9cd1d72-c152-40d5-c4f7-fc7072599169"
      },
      "execution_count": 6,
      "outputs": [
        {
          "output_type": "stream",
          "name": "stdout",
          "text": [
            "1+2j\n",
            "2.23606797749979\n",
            "1.1071487177940904\n"
          ]
        }
      ]
    },
    {
      "cell_type": "markdown",
      "source": [
        "#10\n",
        "\n",
        "Ms. Gabriel Williams is a botany professor at District College. One day, she asked her student Mickey to compute the average of all the plants with distinct heights in her greenhouse.\n",
        "\n",
        "Formula used:\n",
        "\n",
        "average=sum of distinct heights/total no of distinct heights"
      ],
      "metadata": {
        "id": "XUegbjhUi28k"
      }
    },
    {
      "cell_type": "code",
      "source": [
        "def average(array):\n",
        "\n",
        "    arr_set=set(array)\n",
        "\n",
        "    n=len(arr_set)\n",
        "\n",
        "    sum=0\n",
        "\n",
        "    for ele in arr_set:\n",
        "        sum=sum+ele\n",
        "\n",
        "    res=sum/n\n",
        "    res=round(res,3)\n",
        "\n",
        "    return res\n",
        "\n",
        "\n",
        "if __name__ == '__main__':\n",
        "    n = int(input())\n",
        "    arr = list(map(int, input().split()))\n",
        "    result = average(arr)\n",
        "    print(result)"
      ],
      "metadata": {
        "colab": {
          "base_uri": "https://localhost:8080/"
        },
        "id": "CLuFdNkCkDnD",
        "outputId": "3779c081-f40c-4ebf-d716-ebb0a20b5cdb"
      },
      "execution_count": 7,
      "outputs": [
        {
          "output_type": "stream",
          "name": "stdout",
          "text": [
            "10\n",
            "161 182 161 154 176 170 167 171 170 174\n",
            "169.375\n"
          ]
        }
      ]
    },
    {
      "cell_type": "markdown",
      "source": [
        "#11\n",
        "\n",
        "In this challenge, you will be given  integers m and n. There are n words, which might repeat, in word group A. There are m words belonging to word group B. For each m words, check whether the word has appeared in group A or not. Print the indices of each occurrence of m in group A. If it does not appear, print -1."
      ],
      "metadata": {
        "id": "R3XmzleNkfBt"
      }
    },
    {
      "cell_type": "code",
      "source": [
        "# Enter your code here. Read input from STDIN. Print output to STDOUT\n",
        "\n",
        "input_form=input()\n",
        "integ=list(map(int,input_form.split()))\n",
        "\n",
        "n=integ[0]\n",
        "m=integ[1]\n",
        "\n",
        "lst_A=[]\n",
        "lst_B=[]\n",
        "\n",
        "for i in range(0,n):\n",
        "    lst_A.append(input())\n",
        "\n",
        "for i in range(0,m):\n",
        "    lst_B.append(input())\n",
        "\n",
        "# Initialize dictionary to store indices of elements in lst_A\n",
        "indices_dict = {key: [] for key in lst_B}\n",
        "\n",
        "# Populate indices_dict with indices of elements in lst_A\n",
        "for idx, value in enumerate(lst_A):\n",
        "    if value in indices_dict:\n",
        "        indices_dict[value].append(idx + 1)  # Store 1-based index\n",
        "\n",
        "# Output results\n",
        "for b in lst_B:\n",
        "    if b in indices_dict and indices_dict[b]:\n",
        "        print(' '.join(map(str, indices_dict[b])), end=' ')\n",
        "    else:\n",
        "        print('-1', end=' ')\n",
        "\n",
        "    print('')  # Print new line after each row of results\n"
      ],
      "metadata": {
        "colab": {
          "base_uri": "https://localhost:8080/"
        },
        "id": "RjU9821woHT8",
        "outputId": "8128a1de-dee7-4208-c46d-06fcc812ec9b"
      },
      "execution_count": 8,
      "outputs": [
        {
          "output_type": "stream",
          "name": "stdout",
          "text": [
            "5 2\n",
            "a\n",
            "a\n",
            "b\n",
            "a\n",
            "b\n",
            "a\n",
            "b\n",
            "1 2 4 \n",
            "3 5 \n"
          ]
        }
      ]
    }
  ]
}